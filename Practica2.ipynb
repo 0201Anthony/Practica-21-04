{
 "cells": [
  {
   "cell_type": "markdown",
   "id": "b4dac947",
   "metadata": {},
   "source": [
    "# Titulo"
   ]
  },
  {
   "cell_type": "raw",
   "id": "4fe174d7",
   "metadata": {},
   "source": [
    "tema:\n",
    "    variables"
   ]
  },
  {
   "cell_type": "code",
   "execution_count": 1,
   "id": "a6305dfe",
   "metadata": {},
   "outputs": [
    {
     "data": {
      "text/plain": [
       "'100'"
      ]
     },
     "execution_count": 1,
     "metadata": {},
     "output_type": "execute_result"
    }
   ],
   "source": [
    "numero =100\n",
    "cadena = str(numero)\n",
    "cadena"
   ]
  },
  {
   "cell_type": "code",
   "execution_count": 2,
   "id": "7380fdbc",
   "metadata": {},
   "outputs": [
    {
     "data": {
      "text/plain": [
       "str"
      ]
     },
     "execution_count": 2,
     "metadata": {},
     "output_type": "execute_result"
    }
   ],
   "source": [
    "type(cadena)\n"
   ]
  },
  {
   "cell_type": "code",
   "execution_count": 4,
   "id": "9b639ee5",
   "metadata": {},
   "outputs": [
    {
     "data": {
      "text/plain": [
       "50.0"
      ]
     },
     "execution_count": 4,
     "metadata": {},
     "output_type": "execute_result"
    }
   ],
   "source": [
    "cadena2= 50\n",
    "numero2= float(cadena2)\n",
    "numero2"
   ]
  },
  {
   "cell_type": "code",
   "execution_count": null,
   "id": "981f630c",
   "metadata": {},
   "outputs": [],
   "source": []
  }
 ],
 "metadata": {
  "kernelspec": {
   "display_name": "Python 3 (ipykernel)",
   "language": "python",
   "name": "python3"
  },
  "language_info": {
   "codemirror_mode": {
    "name": "ipython",
    "version": 3
   },
   "file_extension": ".py",
   "mimetype": "text/x-python",
   "name": "python",
   "nbconvert_exporter": "python",
   "pygments_lexer": "ipython3",
   "version": "3.10.9"
  }
 },
 "nbformat": 4,
 "nbformat_minor": 5
}
